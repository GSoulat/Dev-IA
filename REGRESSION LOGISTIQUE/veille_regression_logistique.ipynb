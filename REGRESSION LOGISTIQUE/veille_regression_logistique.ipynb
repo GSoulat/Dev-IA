{
 "cells": [
  {
   "cell_type": "markdown",
   "metadata": {},
   "source": [
    "# Régression logistique\n"
   ]
  },
  {
   "cell_type": "code",
   "execution_count": 49,
   "metadata": {},
   "outputs": [],
   "source": [
    "from sklearn.linear_model import LogisticRegression\n",
    "from sklearn.datasets import load_iris\n",
    "from sklearn.model_selection import train_test_split"
   ]
  },
  {
   "cell_type": "code",
   "execution_count": 82,
   "metadata": {},
   "outputs": [],
   "source": [
    "X, y = load_iris(return_X_y=True)\n",
    "X_train, X_test, y_train, y_test = train_test_split(X, y)\n",
    "model = LogisticRegression(max_iter=200, random_state=7, solver=\"liblinear\")"
   ]
  },
  {
   "cell_type": "code",
   "execution_count": 83,
   "metadata": {},
   "outputs": [
    {
     "data": {
      "text/plain": [
       "array([[6.69221118e-03, 3.56716598e-01, 6.36591191e-01],\n",
       "       [3.54965689e-04, 3.13844020e-01, 6.85801015e-01],\n",
       "       [3.21728253e-03, 3.17617337e-01, 6.79165380e-01],\n",
       "       [5.38956898e-03, 3.68557550e-01, 6.26052881e-01],\n",
       "       [4.83965680e-03, 3.12243477e-01, 6.82916866e-01],\n",
       "       [8.33309772e-01, 1.66559997e-01, 1.30230604e-04],\n",
       "       [3.40097846e-04, 1.87466748e-01, 8.12193154e-01],\n",
       "       [1.89886466e-03, 1.62876526e-01, 8.35224610e-01],\n",
       "       [4.40980117e-02, 7.65772792e-01, 1.90129196e-01],\n",
       "       [1.48117567e-02, 6.14771365e-01, 3.70416879e-01],\n",
       "       [3.85459050e-02, 8.27945006e-01, 1.33509089e-01],\n",
       "       [2.61845989e-05, 4.41426771e-01, 5.58547044e-01],\n",
       "       [3.23089954e-03, 5.38008963e-01, 4.58760138e-01],\n",
       "       [8.86451149e-01, 1.13497951e-01, 5.09009315e-05],\n",
       "       [1.80749620e-02, 6.39767716e-01, 3.42157322e-01],\n",
       "       [1.95902684e-01, 6.47449818e-01, 1.56647497e-01],\n",
       "       [8.21759594e-01, 1.78133443e-01, 1.06963194e-04],\n",
       "       [5.18882716e-04, 2.64131972e-01, 7.35349145e-01],\n",
       "       [1.53525495e-03, 3.81732379e-01, 6.16732366e-01],\n",
       "       [2.89882083e-04, 4.63843725e-01, 5.35866393e-01],\n",
       "       [8.54946358e-01, 1.44985098e-01, 6.85432794e-05],\n",
       "       [6.21569266e-02, 8.10926612e-01, 1.26916462e-01],\n",
       "       [9.01184952e-01, 9.87373655e-02, 7.76825114e-05],\n",
       "       [2.52090726e-02, 7.23752522e-01, 2.51038406e-01],\n",
       "       [5.35758305e-02, 4.92875602e-01, 4.53548568e-01],\n",
       "       [5.99383108e-04, 4.91941871e-01, 5.07458746e-01],\n",
       "       [4.43049318e-04, 2.96994859e-01, 7.02562092e-01],\n",
       "       [4.54406908e-02, 7.70765126e-01, 1.83794184e-01],\n",
       "       [4.70649535e-02, 8.02463120e-01, 1.50471927e-01],\n",
       "       [2.61655133e-02, 6.42913766e-01, 3.30920721e-01],\n",
       "       [8.72183112e-01, 1.27662664e-01, 1.54224028e-04],\n",
       "       [4.65921992e-02, 7.88065430e-01, 1.65342371e-01],\n",
       "       [7.84034787e-04, 4.60662599e-01, 5.38553366e-01],\n",
       "       [6.79021223e-02, 6.54159450e-01, 2.77938428e-01],\n",
       "       [2.32960219e-02, 8.04838018e-01, 1.71865960e-01],\n",
       "       [7.29171023e-05, 4.58548048e-01, 5.41379035e-01],\n",
       "       [8.30840395e-01, 1.68964539e-01, 1.95065411e-04],\n",
       "       [4.91234670e-04, 3.69451878e-01, 6.30056887e-01]])"
      ]
     },
     "execution_count": 83,
     "metadata": {},
     "output_type": "execute_result"
    }
   ],
   "source": [
    "model.fit(X_train, y_train)\n",
    "model.predict_proba(X_test) # => donne un tableau de probabilités"
   ]
  },
  {
   "cell_type": "code",
   "execution_count": 84,
   "metadata": {},
   "outputs": [
    {
     "data": {
      "text/plain": [
       "0.9736842105263158"
      ]
     },
     "execution_count": 84,
     "metadata": {},
     "output_type": "execute_result"
    }
   ],
   "source": [
    "model.score(X_test, y_test)"
   ]
  },
  {
   "cell_type": "markdown",
   "metadata": {},
   "source": [
    "# Les (hyper)paramètres"
   ]
  },
  {
   "cell_type": "markdown",
   "metadata": {},
   "source": [
    "|nom|def|\n",
    "|--|--|\n",
    "| [solver](https://towardsdatascience.com/dont-sweat-the-solver-stuff-aea7cddc3451)            | Algorithme d'optimisation |\n",
    "| [C](https://medium.com/analytics-vidhya/regularization-a-method-to-solve-overfitting-in-machine-learning-ed5f13647b91)                 | Inverse de la force de régularisation (utilisé dans l)|\n",
    "| [penalty](https://towardsdatascience.com/l1-and-l2-regularization-methods-ce25e7fc831c?gi=76a772aa69bd)           | l1 (lasso), l2 (ridge) ou elasticnet, dépend du solver|\n",
    "| dual              | Utilisé pour pénalité **l2** avec le **liblinear** |\n",
    "| tol               | tolerance pour la recherche de max / min|\n",
    "| fit_intercept     | précise si une constante (biais ou ordonnée à l'origine) devrait être ajoutée à la decision function|\n",
    "| intercept_scaling | Utilisé avec le solver **liblinear** et fit_intercept True. Elle représente la constante.|\n",
    "| [class_weight](https://www.analyticsvidhya.com/blog/2020/10/improve-class-imbalance-class-weights/)      | Importance accordée aux targets (utile équilibrer des datasets qui ne le sont pas)|\n",
    "| max_iter          | Nombre maximum d'itérations du solver|\n",
    "| [multi_class](https://machinelearningmastery.com/one-vs-rest-and-one-vs-one-for-multi-class-classification/) | Schéma de comparaison des classes (**One versus [All]** or **One versus One**)\n",
    "| [verbose](https://stackoverflow.com/questions/47902295/what-is-the-use-of-verbose-in-keras-while-validating-the-model) | Pour le *liblinear* et *lbfgs*, change l'affichage de l'avancement du solver|\n",
    "| warm_start | Réutilise la solution du dernier fit (ou non)|\n",
    "| n_jobs | Non utilisé avec **liblinear**, permet de fixer un nombre de cœurs dédiés à la parallélisation des classes|\n",
    "| l1_ratio | Lors de l'utilisation de **elasticnet**, permet de déterminer le ratio l1 / l2 |\n",
    "\n",
    "Autres liens de doc :\n",
    "- [La doc de sklearn](https://scikit-learn.org/stable/modules/generated/sklearn.linear_model.LogisticRegression.html)\n",
    "- [HolyPython](https://holypython.com/log-reg/logistic-regression-optimization-parameters/)"
   ]
  },
  {
   "cell_type": "markdown",
   "metadata": {},
   "source": [
    "# Le principe mathématique"
   ]
  },
  {
   "cell_type": "markdown",
   "metadata": {},
   "source": [
    "Formule de la fonction sigmoïde:\n",
    "$$\n",
    "\\sigma(X)=\\frac{1}{1+e^{-x}}\n",
    "$$\n",
    "Peu importe la valeur de x, le résultat sera toujours compris entre 0 et 1\n",
    "$$\n",
    "\\lim_{x \\to +\\infty } = 1\n",
    "$$\n",
    "$$\n",
    "\\lim_{x \\to -\\infty } = 0\n",
    "$$\n",
    "Pour cela, elle peut être considérée commme une probabilité."
   ]
  },
  {
   "cell_type": "markdown",
   "metadata": {},
   "source": [
    "$$\n",
    "\\forall (X\\in \\mathbb{R}^n)h(X) = \\sigma(\\Theta X)\n",
    "$$\n",
    "$$\n",
    "\\forall (X\\in \\mathbb{R}^n)h(X)=\\frac{1}{1+e^{-\\sum^{n}_{i=1} \\theta_ix_i}}\n",
    "$$"
   ]
  },
  {
   "cell_type": "markdown",
   "metadata": {},
   "source": [
    "![](https://cdn.discordapp.com/attachments/933639686558216273/945241424453054494/fonction_sigmoide.png)"
   ]
  },
  {
   "cell_type": "markdown",
   "metadata": {},
   "source": [
    "# Les hypothèses sur les données\n",
    "- Les features sont peu corrélées entre elles\n",
    "- Le dataset est plutôt conséquent\n",
    "- Le dataset est séparable de manière linéaire (on peut séparer les données en deux avec une ligne)\n",
    "\n",
    "# Quand l'utiliser\n",
    "- Lorsqu'on veut un résultat binaire : Un email est-il un spam ?\n",
    "\n",
    "# Avantages\n",
    "- Relativement simple à implémenter\n",
    "- Plutôt efficace quand les hypothèses (vues plus haut) sont validées\n",
    "\n",
    "# Désavantages\n",
    "- Ne peux pas prédire une valeur continue\n",
    "- Inefficace lorsque les hypothèses ne sont pas validées"
   ]
  }
 ],
 "metadata": {
  "interpreter": {
   "hash": "b4f38127354bbbf11134e8c14cc17daac7b35e8faaf836cc12d7980bb5480b10"
  },
  "kernelspec": {
   "display_name": "Python 3.10.0 ('datascience')",
   "language": "python",
   "name": "python3"
  },
  "language_info": {
   "codemirror_mode": {
    "name": "ipython",
    "version": 3
   },
   "file_extension": ".py",
   "mimetype": "text/x-python",
   "name": "python",
   "nbconvert_exporter": "python",
   "pygments_lexer": "ipython3",
   "version": "3.10.0"
  },
  "orig_nbformat": 4
 },
 "nbformat": 4,
 "nbformat_minor": 2
}
