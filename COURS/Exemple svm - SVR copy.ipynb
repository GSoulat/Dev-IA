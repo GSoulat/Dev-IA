{
 "cells": [
  {
   "cell_type": "markdown",
   "metadata": {},
   "source": [
    "### 1°) Tableau"
   ]
  },
  {
   "cell_type": "markdown",
   "metadata": {},
   "source": [
    "| Type de ML | Scale | \n",
    "|------------|-------|\n",
    "| Régression Linéaire | Non |\n",
    "| Régression Logistic | Non |\n",
    "| Régression Linéaire régularisé | Oui |\n",
    "| CART (RandomForrest) | Oui |\n",
    "| SVM | Oui |\n",
    "| BAYES (Gaussien) | Oui |\n"
   ]
  },
  {
   "cell_type": "code",
   "execution_count": null,
   "metadata": {},
   "outputs": [],
   "source": []
  }
 ],
 "metadata": {
  "interpreter": {
   "hash": "851cbede0848375f5ee003a545e6bdb60854bd7079e60d3d83a905c48c3d9ad8"
  },
  "kernelspec": {
   "display_name": "Python 3.10.2 ('myEnvMaison': venv)",
   "language": "python",
   "name": "python3"
  },
  "language_info": {
   "codemirror_mode": {
    "name": "ipython",
    "version": 3
   },
   "file_extension": ".py",
   "mimetype": "text/x-python",
   "name": "python",
   "nbconvert_exporter": "python",
   "pygments_lexer": "ipython3",
   "version": "3.10.0"
  },
  "orig_nbformat": 4
 },
 "nbformat": 4,
 "nbformat_minor": 2
}
