{
 "cells": [
  {
   "cell_type": "markdown",
   "metadata": {},
   "source": [
    "# I. SVM --> \"Machines à Vecteurs de Support\" ou en Anglais \"Support Vector Machine\". "
   ]
  },
  {
   "cell_type": "markdown",
   "metadata": {},
   "source": [
    "## I. Histoire :"
   ]
  },
  {
   "cell_type": "markdown",
   "metadata": {},
   "source": [
    "Conceptualisé par Vladimir Vapnik dès le début des années 60, il fait son entrée dans le milieu de l’informatique en 1990.<br>  Dès lors, il devient une référence pour tous ceux qui s’intéressent de près ou de loin aux techniques d’apprentissage supervisé. <br> Encore aujourd’hui, il continue d’être enseigné, étudié et massivement utilisé.<br>  Vous l’aurez compris, nous allons parler ici des Machines à Vecteurs de Support, aussi appelé SVM pour Support Vector Machine. \n",
    "* Permet de faire prédiction quantitative ou qualitative "
   ]
  },
  {
   "cell_type": "markdown",
   "metadata": {},
   "source": [
    "> `Warning : Parler de la simplicité d’un tel algorithme revient à parler de la petitesse de la Lune. ` <br>\n",
    "> ` On sait qu’elle est petite à côté de ce qui l’entoure, mais on pourrait quand même pas en faire le tour à pied.`"
   ]
  },
  {
   "cell_type": "markdown",
   "metadata": {},
   "source": [
    "nous allons vous présenter le principe de base des Margin Classifiers, et les limites de ces derniers."
   ]
  },
  {
   "cell_type": "markdown",
   "metadata": {},
   "source": [
    "## II. Mathématiques"
   ]
  },
  {
   "cell_type": "markdown",
   "metadata": {},
   "source": [
    "### 1°) Margin Classifiers"
   ]
  },
  {
   "cell_type": "markdown",
   "metadata": {},
   "source": [
    "La méthode que l’on va appliquer est la suivante :\n",
    "\n",
    "Tracer une droite séparant les 2 classes.<br> Si l’observation se trouve au-dessus de cette droite, on dira qu’il s’agit d’un “+”, sinon d’un “-”. <br>\n",
    "* Comment on trace la droite : trace la droite qui maximise l'écart entre les différents groupes.\n",
    "* Exemple : on prend le point d'un groupe A le plus proche d'un point le plus proche du groupe B, et le point B le plus proche du point du groupe A. <br> et on trace une droite qui maximise la distance entre les deux points pour que la droite soit au millieu des deux points et que ainsi la capacité de généralisation de l'algo soit optimal.\n",
    "* Soucis lorsque le jeu de donnée n'est pas linéairement séparable : on utilise pour cela l'astuce du noyau.<br> On applique une transofrmation sur nos données pour les rendre linéairement séparable. \n",
    "* AUtres soucis : lorsque l'on a plus de trois types de classes. Solutions :"
   ]
  },
  {
   "cell_type": "markdown",
   "metadata": {},
   "source": [
    "<img src=\"./droiteclassification.png\" alt=\"drawing\"/>"
   ]
  },
  {
   "cell_type": "markdown",
   "metadata": {},
   "source": [
    "> `En mathématiques, la distance qui sépare une droite de l’observation la plus proche est appelée la marge. ` <br>\n",
    "\n",
    "> `La droite centrale a une marge plus importante que les deux autres. `"
   ]
  },
  {
   "cell_type": "markdown",
   "metadata": {},
   "source": [
    "La méthode semble fonctionner correctement.<br>\n",
    "Cependant, dans le cas particulier de notre problème, il existe une infinité de droites séparant parfaitement les 2 ensembles.<br>\n",
    "Chacune d’elle délimite des espaces différents et constitue une réponse différente au problème. <br>\n",
    "La question est alors de savoir comment choisir la meilleure droite parmi toutes les droites possibles."
   ]
  },
  {
   "cell_type": "markdown",
   "metadata": {},
   "source": [
    "<img src=\"./plusieurspossibilite.png\" alt=\"drawing\"/>"
   ]
  },
  {
   "cell_type": "markdown",
   "metadata": {},
   "source": [
    "> `En mathématiques, la distance qui sépare une droite de l’observation la plus proche est appelée la marge.`<br>` La droite centrale a une marge plus importante que les deux autres.`<br>` Autrement dit, la droite qui sépare le mieux les 2 classes est celle dont la marge est la plus élevée. `<br>`Vous comprenez désormais d’où vient le terme de “Maximal Margin Classifiers” ?`"
   ]
  },
  {
   "cell_type": "markdown",
   "metadata": {},
   "source": [
    "<img src=\"marge.png\" alt=\"drawing\"/>"
   ]
  },
  {
   "cell_type": "markdown",
   "metadata": {},
   "source": [
    "Le système de marge fonctionne uniquement quand c'est linéaire, exemple quand il s'agit de température à l'année"
   ]
  },
  {
   "cell_type": "markdown",
   "metadata": {},
   "source": [
    "- - -"
   ]
  },
  {
   "cell_type": "markdown",
   "metadata": {},
   "source": [
    "### 2°) les fonctions \"noyau\""
   ]
  },
  {
   "cell_type": "markdown",
   "metadata": {},
   "source": [
    "Pour palier ce problème on utilise la technique du noyau, et on applique une transforme pour les linéairement séparable \n",
    "Voici quelques formules pour les noyaux"
   ]
  },
  {
   "cell_type": "markdown",
   "metadata": {},
   "source": [
    "### Noyau linéaire\n"
   ]
  },
  {
   "cell_type": "markdown",
   "metadata": {},
   "source": [
    "<img src=\"https://latex.codecogs.com/png.image?\\dpi{110}&space;\\bg_white&space;\\inline&space;K\\left&space;(&space;x,x'&space;\\right&space;)&space;=&space;\\left<&space;x,x'\\right>\" title=\"\\bg_white \\inline K\\left ( x,x' \\right ) = \\left< x,x'\\right>\" width=300 />"
   ]
  },
  {
   "cell_type": "markdown",
   "metadata": {},
   "source": [
    "### Noyau quadratuque homogène "
   ]
  },
  {
   "cell_type": "markdown",
   "metadata": {},
   "source": [
    "<img src=\"https://latex.codecogs.com/png.image?\\dpi{110}&space;\\bg_white&space;\\inline&space;K\\left&space;(&space;x,x'&space;\\right&space;)&space;=&space;\\left<&space;x,x'\\right>^{2}\" title=\"\\bg_white \\inline K\\left ( x,x' \\right ) = \\left< x,x'\\right>^{2}\"  width=300/>"
   ]
  },
  {
   "cell_type": "markdown",
   "metadata": {},
   "source": [
    "### Noyau plynomial"
   ]
  },
  {
   "cell_type": "markdown",
   "metadata": {},
   "source": [
    "<img src=\"https://latex.codecogs.com/png.image?\\dpi{110}&space;\\bg_white&space;\\inline&space;K\\left&space;(&space;x,x'&space;\\right&space;)&space;=&space;\\left&space;(\\left<&space;x,x'\\right>&plus;&space;c^{d}&space;&space;\\right&space;)\" title=\"\\bg_white \\inline K\\left ( x,x' \\right ) = \\left (\\left< x,x'\\right>+ c^{d} \\right )\"  width=300/>"
   ]
  },
  {
   "cell_type": "markdown",
   "metadata": {},
   "source": [
    "### Noyau gaussien"
   ]
  },
  {
   "cell_type": "markdown",
   "metadata": {},
   "source": [
    "<img src=\"noyaugaussien.png\" alt=\"drawing\"/>"
   ]
  },
  {
   "cell_type": "markdown",
   "metadata": {},
   "source": [
    "### Noyau RBF (Radial Basis Funtion)"
   ]
  },
  {
   "cell_type": "markdown",
   "metadata": {},
   "source": [
    "<img src=\"noyau RBF.png\" alt=\"drawing\"/>"
   ]
  },
  {
   "cell_type": "markdown",
   "metadata": {},
   "source": [
    "## III. Python"
   ]
  },
  {
   "cell_type": "markdown",
   "metadata": {},
   "source": [
    "> Importation des bibliothèques `SVM` :"
   ]
  },
  {
   "cell_type": "code",
   "execution_count": 7,
   "metadata": {},
   "outputs": [],
   "source": [
    "# charger les données\n",
    "import pandas as pd\n",
    "import numpy as np\n",
    "import matplotlib.pyplot as plt\n",
    "data = pd.read_csv('winequality-white.csv', sep=';')\n",
    "\n",
    "# créer la matrice de données\n",
    "X = data[data.columns[:-1]].values\n",
    "\n",
    "# créer le vecteur d'étiquettes\n",
    "y = data['quality'].values\n",
    "\n",
    "# créer un jeu d'entrainement et un jeu de test (30% des données)\n",
    "from sklearn import model_selection\n",
    "X_train, X_test, y_train, y_test = \\\n",
    "    model_selection.train_test_split(X, y, test_size=0.3)\n",
    "                                \n",
    "# standardiser les données\n",
    "from sklearn import preprocessing\n",
    "std_scale = preprocessing.StandardScaler().fit(X_train)\n",
    "X_train_std = std_scale.transform(X_train)\n",
    "X_test_std = std_scale.transform(X_test)                               "
   ]
  },
  {
   "cell_type": "markdown",
   "metadata": {},
   "source": [
    "> Construction de l'algorithme : <br> Nous pouvons maintenant entraîner une kRR sur le jeu d'entraînement en utilisant des paramètres par défaut pour le paramètre de régularisation et la bande passante du noyau RBF gaussien :"
   ]
  },
  {
   "cell_type": "code",
   "execution_count": 8,
   "metadata": {},
   "outputs": [
    {
     "name": "stdout",
     "output_type": "stream",
     "text": [
      "RMSE: 0.73\n"
     ]
    }
   ],
   "source": [
    "from sklearn import kernel_ridge\n",
    "predicteur = kernel_ridge.KernelRidge(\n",
    "    alpha=1.0, # valeur par défaut \n",
    "    kernel='rbf', # noyau Gaussien\n",
    "    gamma=0.01)   # valeur de 1/(2 * sigma**2)\n",
    "                                     \n",
    "# entraîner le classifieur sur le jeu d'entrainement\n",
    "predicteur.fit(X_train_std, y_train)\n",
    "\n",
    "# prédire sur le jeu de test\n",
    "y_test_pred = predicteur.predict(X_test_std)\n",
    "\n",
    "# calculer la RMSE sur le jeu de test\n",
    "from sklearn import metrics\n",
    "rmse = np.sqrt(metrics.mean_squared_error(y_test, y_test_pred))\n",
    "print(\"RMSE: {:.2f}\".format(rmse))\n"
   ]
  },
  {
   "cell_type": "markdown",
   "metadata": {},
   "source": [
    "> On obtient une RMSE de 0.73, ce qui est correct pour des nombres entiers allant de 3 à 9.<br>\n",
    "\n",
    "> Pour visualiser les prédictions, on peut utiliser un nuage de points dans lequel la surface de chaque point est proportionnelle au nombre d'observations ayant exactement ces valeurs de score prédit et de score réel.<br>\n",
    "> Pour plus de détails, vous pouvez vous référer à la procédure utilisée dans le cours Comparez votre algorithme à des approches de régression naïves."
   ]
  },
  {
   "cell_type": "code",
   "execution_count": 9,
   "metadata": {},
   "outputs": [
    {
     "data": {
      "text/plain": [
       "<matplotlib.legend.Legend at 0x20e53dadc60>"
      ]
     },
     "execution_count": 9,
     "metadata": {},
     "output_type": "execute_result"
    },
    {
     "data": {
      "image/png": "[encoded data removed]",
      "text/plain": [
       "<Figure size 432x432 with 1 Axes>"
      ]
     },
     "metadata": {
      "needs_background": "light"
     },
     "output_type": "display_data"
    }
   ],
   "source": [
    "# créer une figure\n",
    "fig = plt.figure(figsize=(6, 6))\n",
    "\n",
    "# Compter, pour chaque paire de valeurs (y, y') où y est un vrai score et y' le score prédit,\n",
    "# le nombre de ces paires.\n",
    "# Ce nombre sera utilisé pour modifier la taille des marqueurs correspondants \n",
    "# dans un nuage de points\n",
    "sizes = {}\n",
    "for (yt, yp) in zip(list(y_test), list(y_test_pred)):\n",
    "    if (yt, yp) in sizes.keys():\n",
    "        sizes[(yt, yp)Nous pouvons maintenant entraîner une kRR sur le jeu d'entraînement en utilisant des paramètres par défaut pour le paramètre de régularisation et la bande passante du noyau RBF gaussien :Nous pouvons maintenant entraîner une kRR sur le jeu d'entraînement en utilisant des paramètres par défaut pour le paramètre de régularisation et la bande passante du noyau RBF gaussien :Nous pouvons maintenant entraîner une kRR sur le jeu d'entraînement en utilisant des paramètres par défaut pour le paramètre de régularisation et la bande passante du noyau RBF gaussien :Nous pouvons maintenant entraîner une kRR sur le jeu d'entraînement en utilisant des paramètres par défaut pour le paramètre de régularisation et la bande passante du noyau RBF gaussien :Nous pouvons maintenant entraîner une kRR sur le jeu d'entraînement en utilisant des paramètres par défaut pour le paramètre de régularisation et la bande passante du noyau RBF gaussien :Nous pouvons maintenant entraîner une kRR sur le jeu d'entraînement en utilisant des paramètres par défaut pour le paramètre de régularisation et la bande passante du noyau RBF gaussien :Nous pouvons maintenant entraîner une kRR sur le jeu d'entraînement en utilisant des paramètres par défaut pour le paramètre de régularisation et la bande passante du noyau RBF gaussien :Nous pouvons maintenant entraîner une kRR sur le jeu d'entraînement en utilisant des paramètres par défaut pour le paramètre de régularisation et la bande passante du noyau RBF gaussien :Nous pouvons maintenant entraîner une kRR sur le jeu d'entraînement en utilisant des paramètres par défaut pour le paramètre de régularisation et la bande passante du noyau RBF gaussien :Nous pouvons maintenant entraîner une kRR sur le jeu d'entraînement en utilisant des paramètres par défaut pour le paramètre de régularisation et la bande passante du noyau RBF gaussien :Nous pouvons maintenant entraîner une kRR sur le jeu d'entraînement en utilisant des paramètres par défaut pour le paramètre de régularisation et la bande passante du noyau RBF gaussien :Nous pouvons maintenant entraîner une kRR sur le jeu d'entraînement en utilisant des paramètres par défaut pour le paramètre de régularisation et la bande passante du noyau RBF gaussien :Nous pouvons maintenant entraîner une kRR sur le jeu d'entraînement en utilisant des paramètres par défaut pour le paramètre de régularisation et la bande passante du noyau RBF gaussien :Nous pouvons maintenant entraîner une kRR sur le jeu d'entraînement en utilisant des paramètres par défaut pour le paramètre de régularisation et la bande passante du noyau RBF gaussien :Nous pouvons maintenant entraîner une kRR sur le jeu d'entraînement en utilisant des paramètres par défaut pour le paramètre de régularisation et la bande passante du noyau RBF gaussien :Nous pouvons maintenant entraîner une kRR sur le jeu d'entraînement en utilisant des paramètres par défaut pour le paramètre de régularisation et la bande passante du noyau RBF gaussien :Nous pouvons maintenant entraîner une kRR sur le jeu d'entraînement en utilisant des paramètres par défaut pour le paramètre de régularisation et la bande passante du noyau RBF gaussien :Entrain+= 1\n",
    "    else:\n",
    "        sizes[(yt, yp)] = 1        \n",
    "keys = sizes.keys()\n",
    "\n",
    "# afficher les prédictions\n",
    "plt.scatter([k[0] for k in keys], \n",
    "            [k[1] for k in keys], \n",
    "             s=[sizes[k] for k in keys], \n",
    "            label=\"gamma = 0.01: RMSE = {:.2f}\".format(rmse))\n",
    "\n",
    "# étiqueter les axes et le graphique\n",
    "plt.xlabel('Vrai score', fontsize=16)\n",
    "plt.ylabel(u'Score prédit', fontsize=16)\n",
    "plt.title('kernel Ridge Regression', fontsize=16)\n",
    "\n",
    "# limites des axes\n",
    "plt.xlim([2.9, 9.1])\n",
    "plt.ylim([2.9, 9.1])\n",
    "\n",
    "# afficher la légende\n",
    "plt.legend(loc=\"lower right\", fontsize=12)"
   ]
  },
  {
   "cell_type": "markdown",
   "metadata": {},
   "source": [
    "> Pour optimiser le paramètre de régularisation alpha et le paramètre gamma du noyau gaussien, on peut utiliser une recherche sur grille :"
   ]
  },
  {
   "cell_type": "code",
   "execution_count": 11,
   "metadata": {},
   "outputs": [],
   "source": [
    "# valeurs du paramètre C\n",
    "alpha_range = np.logspace(-2, 2, 5)\n",
    "\n",
    "# valeurs du paramètre gamma\n",
    "gamma_range = np.logspace(-2, 1, 4)\n",
    "\n",
    "# grille de paramètres\n",
    "param_grid = {'alpha': alpha_range, 'gamma': gamma_range}\n",
    "\n",
    "# score pour sélectionner le modèle optimal\n",
    "score = 'neg_mean_squared_error'\n",
    "\n",
    "# initialiser la validation croisée\n",
    "grid_pred = model_selection.GridSearchCV(\n",
    "        kernel_ridge.KernelRidge(kernel='rbf'),\n",
    "        param_grid,\n",
    "        cv=5,\n",
    "        scoring=score)\n",
    "                                    \n",
    "# exécuter la validation croisée sur le jeu d'entraînement\n",
    "grid_pred.fit(X_train_std, y_train)\n",
    "\n",
    "# prédire sur le jeu de test avec le modèle sélectionné \n",
    "y_test_pred_cv = grid_pred.predict(X_test_std)\n",
    "\n",
    "# calculer la RMSE correspondante\n",
    "rmse_cv = np.sqrt(metrics.mean_squared_error(y_test, y_test_pred_cv))\n"
   ]
  },
  {
   "cell_type": "markdown",
   "metadata": {},
   "source": [
    "Pour optimiser le paramètre de régularisation alpha et le paramètre gamma du noyau gaussien, on peut utiliser une recherche sur grille :"
   ]
  }
 ],
 "metadata": {
  "interpreter": {
   "hash": "b5157da187ae8d91b3e4d97a68a452a9b9735ebfc6e86b4654187d15a525e7f9"
  },
  "kernelspec": {
   "display_name": "Python 3.10.0 ('envMl')",
   "language": "python",
   "name": "python3"
  },
  "language_info": {
   "codemirror_mode": {
    "name": "ipython",
    "version": 3
   },
   "file_extension": ".py",
   "mimetype": "text/x-python",
   "name": "python",
   "nbconvert_exporter": "python",
   "pygments_lexer": "ipython3",
   "version": "3.10.0"
  },
  "orig_nbformat": 4
 },
 "nbformat": 4,
 "nbformat_minor": 2
}
