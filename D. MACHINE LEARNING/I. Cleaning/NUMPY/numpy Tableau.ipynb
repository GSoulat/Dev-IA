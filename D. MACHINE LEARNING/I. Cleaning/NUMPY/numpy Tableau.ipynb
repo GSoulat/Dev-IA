{
 "cells": [
  {
   "cell_type": "markdown",
   "metadata": {},
   "source": [
    " # FORMATION - COURS SUR NUMPY \n",
    "<img src=\"../img/Logo/numpy.png\" alt=\"drawing\" width=\"100\"/>"
   ]
  },
  {
   "cell_type": "markdown",
   "metadata": {},
   "source": [
    "---"
   ]
  },
  {
   "cell_type": "markdown",
   "metadata": {},
   "source": [
    "[Installation de numpy](#installation-numpy)"
   ]
  },
  {
   "cell_type": "code",
   "execution_count": 2,
   "metadata": {},
   "outputs": [],
   "source": [
    "import numpy as np"
   ]
  },
  {
   "cell_type": "markdown",
   "metadata": {},
   "source": [
    "## 1° - Méthode pour créer des tableau et les manipulés"
   ]
  },
  {
   "cell_type": "markdown",
   "metadata": {},
   "source": [
    "> Création d'un tableau 1 dimension, la fonction `shape` sert à connaitre le nombre de ligne et colonne"
   ]
  },
  {
   "cell_type": "code",
   "execution_count": 3,
   "metadata": {},
   "outputs": [
    {
     "data": {
      "text/plain": [
       "(3,)"
      ]
     },
     "execution_count": 3,
     "metadata": {},
     "output_type": "execute_result"
    }
   ],
   "source": [
    "A = np.array([1,2,3])\n",
    "A.shape"
   ]
  },
  {
   "cell_type": "markdown",
   "metadata": {},
   "source": [
    "> Créaton d'un tableau 2 dimension contenant que des 0 (Attention au tuple)"
   ]
  },
  {
   "cell_type": "code",
   "execution_count": 4,
   "metadata": {},
   "outputs": [
    {
     "name": "stdout",
     "output_type": "stream",
     "text": [
      "[[0. 0. 0.]\n",
      " [0. 0. 0.]]\n",
      "(2, 3)\n"
     ]
    },
    {
     "data": {
      "text/plain": [
       "tuple"
      ]
     },
     "execution_count": 4,
     "metadata": {},
     "output_type": "execute_result"
    }
   ],
   "source": [
    "B = np.zeros((2,3))\n",
    "print(B)\n",
    "print(B.shape)\n",
    "type(B.shape)"
   ]
  },
  {
   "cell_type": "markdown",
   "metadata": {},
   "source": [
    "> Création d'un tableau contenant que des 1 "
   ]
  },
  {
   "cell_type": "code",
   "execution_count": 5,
   "metadata": {},
   "outputs": [
    {
     "name": "stdout",
     "output_type": "stream",
     "text": [
      "[[1. 1. 1. 1.]\n",
      " [1. 1. 1. 1.]\n",
      " [1. 1. 1. 1.]]\n"
     ]
    },
    {
     "data": {
      "text/plain": [
       "12"
      ]
     },
     "execution_count": 5,
     "metadata": {},
     "output_type": "execute_result"
    }
   ],
   "source": [
    "C = np.ones((3,4))\n",
    "print(C)\n",
    "C.size"
   ]
  },
  {
   "cell_type": "markdown",
   "metadata": {},
   "source": [
    "> Rarement utilisé"
   ]
  },
  {
   "cell_type": "code",
   "execution_count": 6,
   "metadata": {},
   "outputs": [
    {
     "data": {
      "text/plain": [
       "array([[9, 9, 9, 9, 9, 9, 9, 9, 9],\n",
       "       [9, 9, 9, 9, 9, 9, 9, 9, 9]])"
      ]
     },
     "execution_count": 6,
     "metadata": {},
     "output_type": "execute_result"
    }
   ],
   "source": [
    "D = np.full((2,9),9)\n",
    "D"
   ]
  },
  {
   "cell_type": "markdown",
   "metadata": {},
   "source": [
    "> Généré un tableau aléatoirement (pour fixer la fonction aléatoire on utilise seed)"
   ]
  },
  {
   "cell_type": "code",
   "execution_count": 7,
   "metadata": {},
   "outputs": [
    {
     "data": {
      "text/plain": [
       "array([[ 1.76405235,  0.40015721,  0.97873798,  2.2408932 ],\n",
       "       [ 1.86755799, -0.97727788,  0.95008842, -0.15135721],\n",
       "       [-0.10321885,  0.4105985 ,  0.14404357,  1.45427351]])"
      ]
     },
     "execution_count": 7,
     "metadata": {},
     "output_type": "execute_result"
    }
   ],
   "source": [
    "np.random.seed(0)\n",
    "np.random.randn(3,4)"
   ]
  },
  {
   "cell_type": "markdown",
   "metadata": {},
   "source": [
    "> Création d'une matrice d'identité"
   ]
  },
  {
   "cell_type": "code",
   "execution_count": 8,
   "metadata": {},
   "outputs": [
    {
     "data": {
      "text/plain": [
       "array([[1., 0., 0., 0.],\n",
       "       [0., 1., 0., 0.],\n",
       "       [0., 0., 1., 0.],\n",
       "       [0., 0., 0., 1.]])"
      ]
     },
     "execution_count": 8,
     "metadata": {},
     "output_type": "execute_result"
    }
   ],
   "source": [
    "np.eye(4)"
   ]
  },
  {
   "cell_type": "markdown",
   "metadata": {},
   "source": [
    "> Création d'un tableau à 1 dimension np.linspace(<b class=\"alert-warning\">début</b>, fin, quantité, dtype) <br>\n",
    "> dtype c'est la place numérique qu'on peux lui donnée"
   ]
  },
  {
   "cell_type": "code",
   "execution_count": 9,
   "metadata": {},
   "outputs": [
    {
     "data": {
      "text/plain": [
       "array([ 0.    ,  0.5264,  1.053 ,  1.579 ,  2.105 ,  2.63  ,  3.158 ,\n",
       "        3.684 ,  4.21  ,  4.74  ,  5.26  ,  5.79  ,  6.316 ,  6.844 ,\n",
       "        7.367 ,  7.895 ,  8.42  ,  8.945 ,  9.48  , 10.    ],\n",
       "      dtype=float16)"
      ]
     },
     "execution_count": 9,
     "metadata": {},
     "output_type": "execute_result"
    }
   ],
   "source": [
    "np.linspace(0,10,20, dtype = np.float16)"
   ]
  },
  {
   "cell_type": "markdown",
   "metadata": {},
   "source": [
    "> Création d'un tableau à 1 dimension np.arange(début, fin, pas)"
   ]
  },
  {
   "cell_type": "code",
   "execution_count": 10,
   "metadata": {},
   "outputs": [
    {
     "data": {
      "text/plain": [
       "array([0. , 0.5, 1. , 1.5, 2. , 2.5, 3. , 3.5, 4. , 4.5, 5. , 5.5, 6. ,\n",
       "       6.5, 7. , 7.5, 8. , 8.5, 9. , 9.5])"
      ]
     },
     "execution_count": 10,
     "metadata": {},
     "output_type": "execute_result"
    }
   ],
   "source": [
    "np.arange(0,10,0.5)"
   ]
  },
  {
   "cell_type": "code",
   "execution_count": 11,
   "metadata": {},
   "outputs": [
    {
     "name": "stdout",
     "output_type": "stream",
     "text": [
      "[[0. 0.]\n",
      " [0. 0.]\n",
      " [0. 0.]]\n"
     ]
    }
   ],
   "source": [
    "A = np.zeros((3,2))\n",
    "B = np.ones((3,2))\n",
    "print(A)"
   ]
  },
  {
   "cell_type": "code",
   "execution_count": 12,
   "metadata": {},
   "outputs": [
    {
     "name": "stdout",
     "output_type": "stream",
     "text": [
      "[[1. 1.]\n",
      " [1. 1.]\n",
      " [1. 1.]]\n"
     ]
    }
   ],
   "source": [
    "print(B)"
   ]
  },
  {
   "cell_type": "markdown",
   "metadata": {},
   "source": [
    "> Colle les tableaux à coté de l'un et de l'autre"
   ]
  },
  {
   "cell_type": "code",
   "execution_count": 13,
   "metadata": {},
   "outputs": [
    {
     "name": "stdout",
     "output_type": "stream",
     "text": [
      "[[0. 0. 1. 1.]\n",
      " [0. 0. 1. 1.]\n",
      " [0. 0. 1. 1.]]\n"
     ]
    },
    {
     "data": {
      "text/plain": [
       "(3, 4)"
      ]
     },
     "execution_count": 13,
     "metadata": {},
     "output_type": "execute_result"
    }
   ],
   "source": [
    "C = np.hstack((A,B))\n",
    "\n",
    "print(C)\n",
    "C.shape"
   ]
  },
  {
   "cell_type": "markdown",
   "metadata": {},
   "source": [
    ">  Colle les tableaux superposé l'un à l'autre"
   ]
  },
  {
   "cell_type": "code",
   "execution_count": 14,
   "metadata": {},
   "outputs": [
    {
     "name": "stdout",
     "output_type": "stream",
     "text": [
      "[[0. 0.]\n",
      " [0. 0.]\n",
      " [0. 0.]\n",
      " [1. 1.]\n",
      " [1. 1.]\n",
      " [1. 1.]]\n"
     ]
    },
    {
     "data": {
      "text/plain": [
       "(6, 2)"
      ]
     },
     "execution_count": 14,
     "metadata": {},
     "output_type": "execute_result"
    }
   ],
   "source": [
    "D = np.vstack((A,B))\n",
    "\n",
    "print(D)\n",
    "D.shape"
   ]
  },
  {
   "cell_type": "markdown",
   "metadata": {},
   "source": [
    "> la fonction concatenate fait la meme chose que vstack() ou hstack() en fonction de l'abcisse <br>\n",
    "> Méthode concatenate = hstack()"
   ]
  },
  {
   "cell_type": "code",
   "execution_count": 15,
   "metadata": {},
   "outputs": [
    {
     "data": {
      "text/plain": [
       "array([[0., 0., 1., 1.],\n",
       "       [0., 0., 1., 1.],\n",
       "       [0., 0., 1., 1.]])"
      ]
     },
     "execution_count": 15,
     "metadata": {},
     "output_type": "execute_result"
    }
   ],
   "source": [
    "np.concatenate((A,B), axis=1)"
   ]
  },
  {
   "cell_type": "markdown",
   "metadata": {},
   "source": [
    "> Méthode concatenate = vstack()"
   ]
  },
  {
   "cell_type": "code",
   "execution_count": 16,
   "metadata": {},
   "outputs": [
    {
     "name": "stdout",
     "output_type": "stream",
     "text": [
      "[[0. 0.]\n",
      " [0. 0.]\n",
      " [0. 0.]\n",
      " [1. 1.]\n",
      " [1. 1.]\n",
      " [1. 1.]]\n"
     ]
    }
   ],
   "source": [
    "D = np.concatenate((A,B), axis=0)\n",
    "print(D)"
   ]
  },
  {
   "cell_type": "markdown",
   "metadata": {},
   "source": [
    "> Redimensionner un tableau grace à reshape"
   ]
  },
  {
   "cell_type": "code",
   "execution_count": 17,
   "metadata": {},
   "outputs": [
    {
     "data": {
      "text/plain": [
       "array([[0., 0., 0., 0.],\n",
       "       [0., 0., 1., 1.],\n",
       "       [1., 1., 1., 1.]])"
      ]
     },
     "execution_count": 17,
     "metadata": {},
     "output_type": "execute_result"
    }
   ],
   "source": [
    "D.reshape((3,4))"
   ]
  },
  {
   "cell_type": "markdown",
   "metadata": {},
   "source": [
    "> Pour ajouter le 1 dans shape"
   ]
  },
  {
   "cell_type": "code",
   "execution_count": 18,
   "metadata": {},
   "outputs": [
    {
     "data": {
      "text/plain": [
       "(3,)"
      ]
     },
     "execution_count": 18,
     "metadata": {},
     "output_type": "execute_result"
    }
   ],
   "source": [
    "A = np.array([1,2,3])\n",
    "A.shape"
   ]
  },
  {
   "cell_type": "code",
   "execution_count": 19,
   "metadata": {},
   "outputs": [
    {
     "data": {
      "text/plain": [
       "(3, 1)"
      ]
     },
     "execution_count": 19,
     "metadata": {},
     "output_type": "execute_result"
    }
   ],
   "source": [
    "A = A.reshape((A.shape[0],1))\n",
    "A.shape"
   ]
  },
  {
   "cell_type": "markdown",
   "metadata": {},
   "source": [
    "> Pour supprimer le 1 dans shape"
   ]
  },
  {
   "cell_type": "code",
   "execution_count": 20,
   "metadata": {},
   "outputs": [
    {
     "data": {
      "text/plain": [
       "(3,)"
      ]
     },
     "execution_count": 20,
     "metadata": {},
     "output_type": "execute_result"
    }
   ],
   "source": [
    "A = A.squeeze()\n",
    "A.shape"
   ]
  },
  {
   "cell_type": "markdown",
   "metadata": {},
   "source": [
    "> Pour aplatir un tableau à plusieurs dimensions en une dimensions avec Ravel()"
   ]
  },
  {
   "cell_type": "code",
   "execution_count": 21,
   "metadata": {},
   "outputs": [
    {
     "data": {
      "text/plain": [
       "(12,)"
      ]
     },
     "execution_count": 21,
     "metadata": {},
     "output_type": "execute_result"
    }
   ],
   "source": [
    "D = D.reshape((3,4))\n",
    "D.ravel().shape"
   ]
  },
  {
   "cell_type": "markdown",
   "metadata": {},
   "source": [
    "> Pour casser un tableau à 1 dimensions"
   ]
  },
  {
   "cell_type": "code",
   "execution_count": 26,
   "metadata": {},
   "outputs": [],
   "source": [
    "array = np.array([15,16,17,12,49,52,12,14,36])\n",
    "array1, array2, array3, array4 = np.split(array,[2,4,6])"
   ]
  },
  {
   "cell_type": "code",
   "execution_count": 27,
   "metadata": {},
   "outputs": [
    {
     "name": "stdout",
     "output_type": "stream",
     "text": [
      "[15 16] [17 12] [49 52] [12 14 36]\n"
     ]
    }
   ],
   "source": [
    "print(array1, array2, array3, array4)"
   ]
  },
  {
   "cell_type": "markdown",
   "metadata": {},
   "source": [
    "> Pour donner le compter le nombre de valeur présente dans le tableau"
   ]
  },
  {
   "cell_type": "code",
   "execution_count": 28,
   "metadata": {},
   "outputs": [
    {
     "data": {
      "text/plain": [
       "2"
      ]
     },
     "execution_count": 28,
     "metadata": {},
     "output_type": "execute_result"
    }
   ],
   "source": [
    "len(array1)"
   ]
  },
  {
   "cell_type": "markdown",
   "metadata": {},
   "source": [
    "> Pour casser un tableau à plusieurs dimensions avec np.vsplit() de façon vertical"
   ]
  },
  {
   "cell_type": "code",
   "execution_count": 31,
   "metadata": {},
   "outputs": [],
   "source": [
    "array = np.array([[1,2,3],[4,5,6],[7,8,9]])\n"
   ]
  },
  {
   "cell_type": "code",
   "execution_count": 34,
   "metadata": {},
   "outputs": [
    {
     "name": "stdout",
     "output_type": "stream",
     "text": [
      "Premier tableau array1 : \n",
      "[[1 2 3]\n",
      " [4 5 6]]\n",
      "Premier tableau array1bis : \n",
      "[[7 8 9]]\n"
     ]
    }
   ],
   "source": [
    "array1, array1bis = np.vsplit(array, [2])\n",
    "print('Premier tableau array1 : ')\n",
    "print(array1)\n",
    "print('Premier tableau array1bis : ')\n",
    "print(array1bis)"
   ]
  },
  {
   "cell_type": "markdown",
   "metadata": {},
   "source": [
    "> Pour casser un tableau à plusieurs dimensions avec np.vsplit() de façon horizontal"
   ]
  },
  {
   "cell_type": "code",
   "execution_count": 35,
   "metadata": {},
   "outputs": [
    {
     "name": "stdout",
     "output_type": "stream",
     "text": [
      "Premier tableau array1 : \n",
      "[[1 2]\n",
      " [4 5]\n",
      " [7 8]]\n",
      "Premier tableau array1bis : \n",
      "[[3]\n",
      " [6]\n",
      " [9]]\n"
     ]
    }
   ],
   "source": [
    "array1, array1bis = np.hsplit(array, [2])\n",
    "print('Premier tableau array1 : ')\n",
    "print(array1)\n",
    "print('Premier tableau array1bis : ')\n",
    "print(array1bis)"
   ]
  },
  {
   "cell_type": "markdown",
   "metadata": {},
   "source": [
    "> Calcul avec les tableaux"
   ]
  },
  {
   "cell_type": "code",
   "execution_count": 37,
   "metadata": {},
   "outputs": [
    {
     "data": {
      "text/plain": [
       "array([[222, 123,  82, 227, 148, 209,  50, 270,  41],\n",
       "       [ 58, 193,  36, 266,  86,  43,  11, 258, 307],\n",
       "       [ 80,  32, 182, 128, 294, 275, 174,  42, 184],\n",
       "       [ 77, 286, 280, 125, 258,   3,  94, 226, 269],\n",
       "       [296, 328,  19,  95, 328, 248, 180, 323, 317],\n",
       "       [270, 260, 237, 139,  86, 109, 331, 184,  16],\n",
       "       [152, 149, 110,  25, 117,  83, 161, 228, 251],\n",
       "       [121, 326, 287,  13, 327, 184, 152,  79,  41],\n",
       "       [274,  40, 207, 267, 166, 111, 349, 129, 223],\n",
       "       [300, 216,  24,  67, 259, 234, 204, 291, 214]])"
      ]
     },
     "execution_count": 37,
     "metadata": {},
     "output_type": "execute_result"
    }
   ],
   "source": [
    "array = np.random.randint(350, size=(10,9))\n",
    "array"
   ]
  },
  {
   "cell_type": "markdown",
   "metadata": {},
   "source": [
    "> Additioner un tableau un nombre avec le tableau ci-dessus"
   ]
  },
  {
   "cell_type": "code",
   "execution_count": 38,
   "metadata": {},
   "outputs": [
    {
     "data": {
      "text/plain": [
       "array([[224, 125,  84, 229, 150, 211,  52, 272,  43],\n",
       "       [ 60, 195,  38, 268,  88,  45,  13, 260, 309],\n",
       "       [ 82,  34, 184, 130, 296, 277, 176,  44, 186],\n",
       "       [ 79, 288, 282, 127, 260,   5,  96, 228, 271],\n",
       "       [298, 330,  21,  97, 330, 250, 182, 325, 319],\n",
       "       [272, 262, 239, 141,  88, 111, 333, 186,  18],\n",
       "       [154, 151, 112,  27, 119,  85, 163, 230, 253],\n",
       "       [123, 328, 289,  15, 329, 186, 154,  81,  43],\n",
       "       [276,  42, 209, 269, 168, 113, 351, 131, 225],\n",
       "       [302, 218,  26,  69, 261, 236, 206, 293, 216]])"
      ]
     },
     "execution_count": 38,
     "metadata": {},
     "output_type": "execute_result"
    }
   ],
   "source": [
    "array + 2"
   ]
  },
  {
   "cell_type": "markdown",
   "metadata": {},
   "source": [
    "OU"
   ]
  },
  {
   "cell_type": "code",
   "execution_count": 43,
   "metadata": {},
   "outputs": [
    {
     "data": {
      "text/plain": [
       "array([[224, 125,  84, 229, 150, 211,  52, 272,  43],\n",
       "       [ 60, 195,  38, 268,  88,  45,  13, 260, 309],\n",
       "       [ 82,  34, 184, 130, 296, 277, 176,  44, 186],\n",
       "       [ 79, 288, 282, 127, 260,   5,  96, 228, 271],\n",
       "       [298, 330,  21,  97, 330, 250, 182, 325, 319],\n",
       "       [272, 262, 239, 141,  88, 111, 333, 186,  18],\n",
       "       [154, 151, 112,  27, 119,  85, 163, 230, 253],\n",
       "       [123, 328, 289,  15, 329, 186, 154,  81,  43],\n",
       "       [276,  42, 209, 269, 168, 113, 351, 131, 225],\n",
       "       [302, 218,  26,  69, 261, 236, 206, 293, 216]])"
      ]
     },
     "execution_count": 43,
     "metadata": {},
     "output_type": "execute_result"
    }
   ],
   "source": [
    "np.add(array, 2)"
   ]
  },
  {
   "cell_type": "markdown",
   "metadata": {},
   "source": [
    "> Multiplier un tableau un nombre avec le tableau ci-dessus"
   ]
  },
  {
   "cell_type": "code",
   "execution_count": 39,
   "metadata": {},
   "outputs": [
    {
     "data": {
      "text/plain": [
       "array([[2220, 1230,  820, 2270, 1480, 2090,  500, 2700,  410],\n",
       "       [ 580, 1930,  360, 2660,  860,  430,  110, 2580, 3070],\n",
       "       [ 800,  320, 1820, 1280, 2940, 2750, 1740,  420, 1840],\n",
       "       [ 770, 2860, 2800, 1250, 2580,   30,  940, 2260, 2690],\n",
       "       [2960, 3280,  190,  950, 3280, 2480, 1800, 3230, 3170],\n",
       "       [2700, 2600, 2370, 1390,  860, 1090, 3310, 1840,  160],\n",
       "       [1520, 1490, 1100,  250, 1170,  830, 1610, 2280, 2510],\n",
       "       [1210, 3260, 2870,  130, 3270, 1840, 1520,  790,  410],\n",
       "       [2740,  400, 2070, 2670, 1660, 1110, 3490, 1290, 2230],\n",
       "       [3000, 2160,  240,  670, 2590, 2340, 2040, 2910, 2140]])"
      ]
     },
     "execution_count": 39,
     "metadata": {},
     "output_type": "execute_result"
    }
   ],
   "source": [
    "array * 10"
   ]
  },
  {
   "cell_type": "markdown",
   "metadata": {},
   "source": [
    "OU"
   ]
  },
  {
   "cell_type": "code",
   "execution_count": 45,
   "metadata": {},
   "outputs": [
    {
     "data": {
      "text/plain": [
       "array([[2220, 1230,  820, 2270, 1480, 2090,  500, 2700,  410],\n",
       "       [ 580, 1930,  360, 2660,  860,  430,  110, 2580, 3070],\n",
       "       [ 800,  320, 1820, 1280, 2940, 2750, 1740,  420, 1840],\n",
       "       [ 770, 2860, 2800, 1250, 2580,   30,  940, 2260, 2690],\n",
       "       [2960, 3280,  190,  950, 3280, 2480, 1800, 3230, 3170],\n",
       "       [2700, 2600, 2370, 1390,  860, 1090, 3310, 1840,  160],\n",
       "       [1520, 1490, 1100,  250, 1170,  830, 1610, 2280, 2510],\n",
       "       [1210, 3260, 2870,  130, 3270, 1840, 1520,  790,  410],\n",
       "       [2740,  400, 2070, 2670, 1660, 1110, 3490, 1290, 2230],\n",
       "       [3000, 2160,  240,  670, 2590, 2340, 2040, 2910, 2140]])"
      ]
     },
     "execution_count": 45,
     "metadata": {},
     "output_type": "execute_result"
    }
   ],
   "source": [
    "np.multiply(array, 10)"
   ]
  },
  {
   "cell_type": "code",
   "execution_count": 41,
   "metadata": {},
   "outputs": [
    {
     "data": {
      "text/plain": [
       "array([2220,  580,  800,  770, 2960, 2700, 1520, 1210, 2740, 3000])"
      ]
     },
     "execution_count": 41,
     "metadata": {},
     "output_type": "execute_result"
    }
   ],
   "source": [
    "array[:,0] * 10\n"
   ]
  },
  {
   "cell_type": "markdown",
   "metadata": {},
   "source": [
    "> Diviser un tableau un nombre avec le tableau ci-dessus"
   ]
  },
  {
   "cell_type": "code",
   "execution_count": 42,
   "metadata": {},
   "outputs": [
    {
     "data": {
      "text/plain": [
       "array([[111. ,  61.5,  41. , 113.5,  74. , 104.5,  25. , 135. ,  20.5],\n",
       "       [ 29. ,  96.5,  18. , 133. ,  43. ,  21.5,   5.5, 129. , 153.5],\n",
       "       [ 40. ,  16. ,  91. ,  64. , 147. , 137.5,  87. ,  21. ,  92. ],\n",
       "       [ 38.5, 143. , 140. ,  62.5, 129. ,   1.5,  47. , 113. , 134.5],\n",
       "       [148. , 164. ,   9.5,  47.5, 164. , 124. ,  90. , 161.5, 158.5],\n",
       "       [135. , 130. , 118.5,  69.5,  43. ,  54.5, 165.5,  92. ,   8. ],\n",
       "       [ 76. ,  74.5,  55. ,  12.5,  58.5,  41.5,  80.5, 114. , 125.5],\n",
       "       [ 60.5, 163. , 143.5,   6.5, 163.5,  92. ,  76. ,  39.5,  20.5],\n",
       "       [137. ,  20. , 103.5, 133.5,  83. ,  55.5, 174.5,  64.5, 111.5],\n",
       "       [150. , 108. ,  12. ,  33.5, 129.5, 117. , 102. , 145.5, 107. ]])"
      ]
     },
     "execution_count": 42,
     "metadata": {},
     "output_type": "execute_result"
    }
   ],
   "source": [
    "array / 2"
   ]
  },
  {
   "cell_type": "markdown",
   "metadata": {},
   "source": [
    "OU"
   ]
  },
  {
   "cell_type": "code",
   "execution_count": 46,
   "metadata": {},
   "outputs": [
    {
     "data": {
      "text/plain": [
       "array([[111. ,  61.5,  41. , 113.5,  74. , 104.5,  25. , 135. ,  20.5],\n",
       "       [ 29. ,  96.5,  18. , 133. ,  43. ,  21.5,   5.5, 129. , 153.5],\n",
       "       [ 40. ,  16. ,  91. ,  64. , 147. , 137.5,  87. ,  21. ,  92. ],\n",
       "       [ 38.5, 143. , 140. ,  62.5, 129. ,   1.5,  47. , 113. , 134.5],\n",
       "       [148. , 164. ,   9.5,  47.5, 164. , 124. ,  90. , 161.5, 158.5],\n",
       "       [135. , 130. , 118.5,  69.5,  43. ,  54.5, 165.5,  92. ,   8. ],\n",
       "       [ 76. ,  74.5,  55. ,  12.5,  58.5,  41.5,  80.5, 114. , 125.5],\n",
       "       [ 60.5, 163. , 143.5,   6.5, 163.5,  92. ,  76. ,  39.5,  20.5],\n",
       "       [137. ,  20. , 103.5, 133.5,  83. ,  55.5, 174.5,  64.5, 111.5],\n",
       "       [150. , 108. ,  12. ,  33.5, 129.5, 117. , 102. , 145.5, 107. ]])"
      ]
     },
     "execution_count": 46,
     "metadata": {},
     "output_type": "execute_result"
    }
   ],
   "source": [
    "np.divide(array,2)"
   ]
  },
  {
   "cell_type": "markdown",
   "metadata": {},
   "source": [
    "> Soustraction un tableau un nombre avec le tableau ci-dessus"
   ]
  },
  {
   "cell_type": "code",
   "execution_count": 44,
   "metadata": {},
   "outputs": [
    {
     "data": {
      "text/plain": [
       "array([[212, 113,  72, 217, 138, 199,  40, 260,  31],\n",
       "       [ 48, 183,  26, 256,  76,  33,   1, 248, 297],\n",
       "       [ 70,  22, 172, 118, 284, 265, 164,  32, 174],\n",
       "       [ 67, 276, 270, 115, 248,  -7,  84, 216, 259],\n",
       "       [286, 318,   9,  85, 318, 238, 170, 313, 307],\n",
       "       [260, 250, 227, 129,  76,  99, 321, 174,   6],\n",
       "       [142, 139, 100,  15, 107,  73, 151, 218, 241],\n",
       "       [111, 316, 277,   3, 317, 174, 142,  69,  31],\n",
       "       [264,  30, 197, 257, 156, 101, 339, 119, 213],\n",
       "       [290, 206,  14,  57, 249, 224, 194, 281, 204]])"
      ]
     },
     "execution_count": 44,
     "metadata": {},
     "output_type": "execute_result"
    }
   ],
   "source": [
    "np.subtract(array, 10)"
   ]
  },
  {
   "cell_type": "markdown",
   "metadata": {},
   "source": [
    "> Calculer la moyenne du tableau"
   ]
  },
  {
   "cell_type": "code",
   "execution_count": 47,
   "metadata": {},
   "outputs": [
    {
     "data": {
      "text/plain": [
       "175.4"
      ]
     },
     "execution_count": 47,
     "metadata": {},
     "output_type": "execute_result"
    }
   ],
   "source": [
    "np.mean(array)"
   ]
  },
  {
   "cell_type": "markdown",
   "metadata": {},
   "source": [
    "OU"
   ]
  },
  {
   "cell_type": "code",
   "execution_count": 48,
   "metadata": {},
   "outputs": [
    {
     "data": {
      "text/plain": [
       "175.4"
      ]
     },
     "execution_count": 48,
     "metadata": {},
     "output_type": "execute_result"
    }
   ],
   "source": [
    "array.mean()"
   ]
  },
  {
   "cell_type": "markdown",
   "metadata": {},
   "source": [
    "> Le min et max du tableau"
   ]
  },
  {
   "cell_type": "code",
   "execution_count": 55,
   "metadata": {},
   "outputs": [
    {
     "data": {
      "text/plain": [
       "3"
      ]
     },
     "execution_count": 55,
     "metadata": {},
     "output_type": "execute_result"
    }
   ],
   "source": [
    "array.min()"
   ]
  },
  {
   "cell_type": "code",
   "execution_count": 54,
   "metadata": {},
   "outputs": [
    {
     "data": {
      "text/plain": [
       "349"
      ]
     },
     "execution_count": 54,
     "metadata": {},
     "output_type": "execute_result"
    }
   ],
   "source": [
    "array.max()"
   ]
  },
  {
   "cell_type": "markdown",
   "metadata": {},
   "source": [
    "> Moyenne par colonne"
   ]
  },
  {
   "cell_type": "code",
   "execution_count": 56,
   "metadata": {},
   "outputs": [
    {
     "data": {
      "text/plain": [
       "array([185. , 195.3, 146.4, 135.2, 206.9, 149.9, 170.6, 203. , 186.3])"
      ]
     },
     "execution_count": 56,
     "metadata": {},
     "output_type": "execute_result"
    }
   ],
   "source": [
    "np.mean(array, axis=0)"
   ]
  },
  {
   "cell_type": "markdown",
   "metadata": {},
   "source": [
    "> Moyenne par ligne"
   ]
  },
  {
   "cell_type": "code",
   "execution_count": 57,
   "metadata": {},
   "outputs": [
    {
     "data": {
      "text/plain": [
       "array([152.44444444, 139.77777778, 154.55555556, 179.77777778,\n",
       "       237.11111111, 181.33333333, 141.77777778, 170.        ,\n",
       "       196.22222222, 201.        ])"
      ]
     },
     "execution_count": 57,
     "metadata": {},
     "output_type": "execute_result"
    }
   ],
   "source": [
    "np.mean(array, axis=1)"
   ]
  },
  {
   "cell_type": "markdown",
   "metadata": {},
   "source": [
    "# Exercice"
   ]
  },
  {
   "cell_type": "markdown",
   "metadata": {},
   "source": [
    "> Importer un fichier cvs avec numpy"
   ]
  },
  {
   "cell_type": "markdown",
   "metadata": {},
   "source": [
    "La 1ère colonne est le prix des maison <br>\n",
    "La 2ème colonne est la surface de la maison<br>\n",
    "La 3ème colonne est la surface du terrain <br>"
   ]
  },
  {
   "cell_type": "code",
   "execution_count": 64,
   "metadata": {},
   "outputs": [
    {
     "data": {
      "text/plain": [
       "array([[212000,   4148,  25264],\n",
       "       [230000,   2501,  11891],\n",
       "       [339000,   4374,  25351],\n",
       "       [289000,   2398,  22215],\n",
       "       [160000,   2536,   9234],\n",
       "       [ 85000,   2368,  13329],\n",
       "       [ 85000,   1264,   8407],\n",
       "       [145000,   1572,  12588],\n",
       "       [164000,   2375,  16204],\n",
       "       [123500,   1161,   9626],\n",
       "       [180000,   1542,   8755],\n",
       "       [159500,   1464,  14636],\n",
       "       [156000,   2240,  21780],\n",
       "       [146500,   1269,  11250],\n",
       "       [101500,    924,   7361],\n",
       "       [109800,    768,  10497],\n",
       "       [182000,   1320,  15768],\n",
       "       [110000,   1845,  12153],\n",
       "       [125000,   1274,  13634],\n",
       "       [ 80000,   1905,  10890]])"
      ]
     },
     "execution_count": 64,
     "metadata": {},
     "output_type": "execute_result"
    }
   ],
   "source": [
    "houses = np.genfromtxt('Houses.csv', delimiter=',' , dtype=int)\n",
    "houses"
   ]
  },
  {
   "cell_type": "markdown",
   "metadata": {},
   "source": [
    "#1. Convertir le prix des maisons en euros, sachant que 1 dollar = 0.86 Euros"
   ]
  },
  {
   "cell_type": "code",
   "execution_count": 65,
   "metadata": {},
   "outputs": [
    {
     "name": "stdout",
     "output_type": "stream",
     "text": [
      "[[182320   4148  25264]\n",
      " [197800   2501  11891]\n",
      " [291540   4374  25351]\n",
      " [248540   2398  22215]\n",
      " [137600   2536   9234]\n",
      " [ 73100   2368  13329]\n",
      " [ 73100   1264   8407]\n",
      " [124700   1572  12588]\n",
      " [141040   2375  16204]\n",
      " [106210   1161   9626]\n",
      " [154800   1542   8755]\n",
      " [137170   1464  14636]\n",
      " [134160   2240  21780]\n",
      " [125990   1269  11250]\n",
      " [ 87290    924   7361]\n",
      " [ 94428    768  10497]\n",
      " [156520   1320  15768]\n",
      " [ 94600   1845  12153]\n",
      " [107500   1274  13634]\n",
      " [ 68800   1905  10890]]\n"
     ]
    }
   ],
   "source": [
    "houses[:,0] = houses[:,0] * 0.86\n",
    "print(houses)"
   ]
  },
  {
   "cell_type": "markdown",
   "metadata": {},
   "source": [
    "#2. Convertir les pieds carrés en m² sachant que 1 pied carré = 0.09m²"
   ]
  },
  {
   "cell_type": "code",
   "execution_count": 66,
   "metadata": {},
   "outputs": [
    {
     "name": "stdout",
     "output_type": "stream",
     "text": [
      "[[182320    373   2273]\n",
      " [197800    225   1070]\n",
      " [291540    393   2281]\n",
      " [248540    215   1999]\n",
      " [137600    228    831]\n",
      " [ 73100    213   1199]\n",
      " [ 73100    113    756]\n",
      " [124700    141   1132]\n",
      " [141040    213   1458]\n",
      " [106210    104    866]\n",
      " [154800    138    787]\n",
      " [137170    131   1317]\n",
      " [134160    201   1960]\n",
      " [125990    114   1012]\n",
      " [ 87290     83    662]\n",
      " [ 94428     69    944]\n",
      " [156520    118   1419]\n",
      " [ 94600    166   1093]\n",
      " [107500    114   1227]\n",
      " [ 68800    171    980]]\n"
     ]
    }
   ],
   "source": [
    "houses[:,1:] = houses[:,1:] * 0.09\n",
    "print(houses)"
   ]
  },
  {
   "cell_type": "markdown",
   "metadata": {},
   "source": [
    "#3. Combien de maison ont un terrain de plus de 1000m²"
   ]
  },
  {
   "cell_type": "code",
   "execution_count": 69,
   "metadata": {},
   "outputs": [
    {
     "data": {
      "text/plain": [
       "13"
      ]
     },
     "execution_count": 69,
     "metadata": {},
     "output_type": "execute_result"
    }
   ],
   "source": [
    "len(houses[houses[:,2]>1000])"
   ]
  },
  {
   "cell_type": "markdown",
   "metadata": {},
   "source": [
    "#4 . Calculer la somme totale obtenue apèrs la vente de toutes les maisons"
   ]
  },
  {
   "cell_type": "code",
   "execution_count": 70,
   "metadata": {},
   "outputs": [
    {
     "data": {
      "text/plain": [
       "2737208"
      ]
     },
     "execution_count": 70,
     "metadata": {},
     "output_type": "execute_result"
    }
   ],
   "source": [
    "np.sum(houses[:,0])"
   ]
  },
  {
   "cell_type": "markdown",
   "metadata": {},
   "source": [
    "#5. Quelle est la taille de la maison vendue la plus chère ?"
   ]
  },
  {
   "cell_type": "code",
   "execution_count": 75,
   "metadata": {},
   "outputs": [
    {
     "name": "stdout",
     "output_type": "stream",
     "text": [
      "291540\n"
     ]
    }
   ],
   "source": [
    "prix_max = houses[:,0].max()\n",
    "print(prix_max)"
   ]
  },
  {
   "cell_type": "code",
   "execution_count": 76,
   "metadata": {},
   "outputs": [
    {
     "data": {
      "text/plain": [
       "array([[291540,    393,   2281]])"
      ]
     },
     "execution_count": 76,
     "metadata": {},
     "output_type": "execute_result"
    }
   ],
   "source": [
    "houses[houses[:,0]==prix_max]"
   ]
  },
  {
   "cell_type": "markdown",
   "metadata": {},
   "source": [
    "#6. Casser le array en 3 tableaux et le concatener"
   ]
  },
  {
   "cell_type": "code",
   "execution_count": 77,
   "metadata": {},
   "outputs": [],
   "source": [
    "prix, taille_maison, taille_terrain = np.hsplit(houses, 3)"
   ]
  },
  {
   "cell_type": "code",
   "execution_count": 78,
   "metadata": {},
   "outputs": [
    {
     "name": "stdout",
     "output_type": "stream",
     "text": [
      "[[182320]\n",
      " [197800]\n",
      " [291540]\n",
      " [248540]\n",
      " [137600]\n",
      " [ 73100]\n",
      " [ 73100]\n",
      " [124700]\n",
      " [141040]\n",
      " [106210]\n",
      " [154800]\n",
      " [137170]\n",
      " [134160]\n",
      " [125990]\n",
      " [ 87290]\n",
      " [ 94428]\n",
      " [156520]\n",
      " [ 94600]\n",
      " [107500]\n",
      " [ 68800]]\n",
      "[[373]\n",
      " [225]\n",
      " [393]\n",
      " [215]\n",
      " [228]\n",
      " [213]\n",
      " [113]\n",
      " [141]\n",
      " [213]\n",
      " [104]\n",
      " [138]\n",
      " [131]\n",
      " [201]\n",
      " [114]\n",
      " [ 83]\n",
      " [ 69]\n",
      " [118]\n",
      " [166]\n",
      " [114]\n",
      " [171]]\n",
      "[[2273]\n",
      " [1070]\n",
      " [2281]\n",
      " [1999]\n",
      " [ 831]\n",
      " [1199]\n",
      " [ 756]\n",
      " [1132]\n",
      " [1458]\n",
      " [ 866]\n",
      " [ 787]\n",
      " [1317]\n",
      " [1960]\n",
      " [1012]\n",
      " [ 662]\n",
      " [ 944]\n",
      " [1419]\n",
      " [1093]\n",
      " [1227]\n",
      " [ 980]]\n"
     ]
    }
   ],
   "source": [
    "print(prix)\n",
    "print(taille_maison)\n",
    "print(taille_terrain)"
   ]
  },
  {
   "cell_type": "code",
   "execution_count": 80,
   "metadata": {},
   "outputs": [
    {
     "data": {
      "text/plain": [
       "array([[182320,    373,   2273],\n",
       "       [197800,    225,   1070],\n",
       "       [291540,    393,   2281],\n",
       "       [248540,    215,   1999],\n",
       "       [137600,    228,    831],\n",
       "       [ 73100,    213,   1199],\n",
       "       [ 73100,    113,    756],\n",
       "       [124700,    141,   1132],\n",
       "       [141040,    213,   1458],\n",
       "       [106210,    104,    866],\n",
       "       [154800,    138,    787],\n",
       "       [137170,    131,   1317],\n",
       "       [134160,    201,   1960],\n",
       "       [125990,    114,   1012],\n",
       "       [ 87290,     83,    662],\n",
       "       [ 94428,     69,    944],\n",
       "       [156520,    118,   1419],\n",
       "       [ 94600,    166,   1093],\n",
       "       [107500,    114,   1227],\n",
       "       [ 68800,    171,    980]])"
      ]
     },
     "execution_count": 80,
     "metadata": {},
     "output_type": "execute_result"
    }
   ],
   "source": [
    "houses_original = np.concatenate([prix, taille_maison, taille_terrain], axis = 1)\n",
    "houses_original"
   ]
  }
 ],
 "metadata": {
  "interpreter": {
   "hash": "b5157da187ae8d91b3e4d97a68a452a9b9735ebfc6e86b4654187d15a525e7f9"
  },
  "kernelspec": {
   "display_name": "Python 3.9.7 ('envMl')",
   "language": "python",
   "name": "python3"
  },
  "language_info": {
   "codemirror_mode": {
    "name": "ipython",
    "version": 3
   },
   "file_extension": ".py",
   "mimetype": "text/x-python",
   "name": "python",
   "nbconvert_exporter": "python",
   "pygments_lexer": "ipython3",
   "version": "3.10.0"
  },
  "orig_nbformat": 4
 },
 "nbformat": 4,
 "nbformat_minor": 2
}
